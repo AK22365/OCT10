{
  "nbformat": 4,
  "nbformat_minor": 0,
  "metadata": {
    "colab": {
      "name": "Assignment1-DL.ipynb",
      "provenance": [],
      "collapsed_sections": []
    },
    "kernelspec": {
      "name": "python3",
      "display_name": "Python 3"
    },
    "language_info": {
      "name": "python"
    }
  },
  "cells": [
    {
      "cell_type": "code",
      "execution_count": 1,
      "metadata": {
        "id": "pUkByP7va7fn"
      },
      "outputs": [],
      "source": [
        "import numpy as np # linear algebra\n",
        "import pandas as pd # data processing, CSV file I/O (e.g. pd.read_csv)\n",
        "import tensorflow as tf\n",
        "from tensorflow import feature_column\n",
        "from tensorflow.keras import layers\n",
        "from sklearn.model_selection import train_test_split\n",
        "import matplotlib.pyplot as plt\n",
        "import seaborn as sns"
      ]
    },
    {
      "cell_type": "code",
      "source": [
        "dataset = pd.read_csv(\"/content/income_evaluation.csv\",skipinitialspace=True)\n",
        "\n",
        "# Check for Null Data\n",
        "dataset.isnull().sum()"
      ],
      "metadata": {
        "id": "gDHdkEVVbSj9",
        "colab": {
          "base_uri": "https://localhost:8080/"
        },
        "outputId": "a23258df-fab9-4d7c-a326-0bfacd46a50d"
      },
      "execution_count": 2,
      "outputs": [
        {
          "output_type": "execute_result",
          "data": {
            "text/plain": [
              "age               0\n",
              "workclass         0\n",
              "fnlwgt            0\n",
              "education         0\n",
              "education-num     0\n",
              "marital-status    0\n",
              "occupation        0\n",
              "relationship      0\n",
              "race              0\n",
              "sex               0\n",
              "capital-gain      0\n",
              "capital-loss      0\n",
              "hours-per-week    0\n",
              "native-country    0\n",
              "income            0\n",
              "dtype: int64"
            ]
          },
          "metadata": {},
          "execution_count": 2
        }
      ]
    },
    {
      "cell_type": "code",
      "source": [
        "dataset.dtypes\n"
      ],
      "metadata": {
        "id": "Lk0BAJphbvU4",
        "colab": {
          "base_uri": "https://localhost:8080/"
        },
        "outputId": "1cc7fa64-abec-42e1-c432-ac2ae5cd1dbf"
      },
      "execution_count": 3,
      "outputs": [
        {
          "output_type": "execute_result",
          "data": {
            "text/plain": [
              "age                int64\n",
              "workclass         object\n",
              "fnlwgt             int64\n",
              "education         object\n",
              "education-num      int64\n",
              "marital-status    object\n",
              "occupation        object\n",
              "relationship      object\n",
              "race              object\n",
              "sex               object\n",
              "capital-gain       int64\n",
              "capital-loss       int64\n",
              "hours-per-week     int64\n",
              "native-country    object\n",
              "income            object\n",
              "dtype: object"
            ]
          },
          "metadata": {},
          "execution_count": 3
        }
      ]
    },
    {
      "cell_type": "code",
      "source": [
        "plt.figure(facecolor='white')\n",
        "sns.countplot(x=dataset[\"income\"],label=\"income distrubution\")"
      ],
      "metadata": {
        "id": "OJBk-fXMkBhg",
        "colab": {
          "base_uri": "https://localhost:8080/",
          "height": 296
        },
        "outputId": "d1ca513e-379a-49e5-bd74-81d13bd58b89"
      },
      "execution_count": 4,
      "outputs": [
        {
          "output_type": "execute_result",
          "data": {
            "text/plain": [
              "<matplotlib.axes._subplots.AxesSubplot at 0x7f93b0775050>"
            ]
          },
          "metadata": {},
          "execution_count": 4
        },
        {
          "output_type": "display_data",
          "data": {
            "text/plain": [
              "<Figure size 432x288 with 1 Axes>"
            ],
            "image/png": "[encoded data removed]"
          },
          "metadata": {}
        }
      ]
    },
    {
      "cell_type": "code",
      "source": [
        "dataset['income']=dataset['income'].map({'<=50K': 0, '>50K': 1, '<=50K.': 0, '>50K.': 1})\n",
        "dataset.head(4)"
      ],
      "metadata": {
        "id": "ZG9iEoB1bxxe",
        "colab": {
          "base_uri": "https://localhost:8080/",
          "height": 378
        },
        "outputId": "f973d9f5-06f9-4287-bad0-ba472338b9a7"
      },
      "execution_count": 5,
      "outputs": [
        {
          "output_type": "execute_result",
          "data": {
            "text/plain": [
              "   age         workclass  fnlwgt  education  education-num  \\\n",
              "0   39         State-gov   77516  Bachelors             13   \n",
              "1   50  Self-emp-not-inc   83311  Bachelors             13   \n",
              "2   38           Private  215646    HS-grad              9   \n",
              "3   53           Private  234721       11th              7   \n",
              "\n",
              "       marital-status         occupation   relationship   race   sex  \\\n",
              "0       Never-married       Adm-clerical  Not-in-family  White  Male   \n",
              "1  Married-civ-spouse    Exec-managerial        Husband  White  Male   \n",
              "2            Divorced  Handlers-cleaners  Not-in-family  White  Male   \n",
              "3  Married-civ-spouse  Handlers-cleaners        Husband  Black  Male   \n",
              "\n",
              "   capital-gain  capital-loss  hours-per-week native-country  income  \n",
              "0          2174             0              40  United-States       0  \n",
              "1             0             0              13  United-States       0  \n",
              "2             0             0              40  United-States       0  \n",
              "3             0             0              40  United-States       0  "
            ],
            "text/html": [
              "\n",
              "  <div id=\"df-378cb717-c5df-4041-8cc6-40ba24c03f5a\">\n",
              "    <div class=\"colab-df-container\">\n",
              "      <div>\n",
              "<style scoped>\n",
              "    .dataframe tbody tr th:only-of-type {\n",
              "        vertical-align: middle;\n",
              "    }\n",
              "\n",
              "    .dataframe tbody tr th {\n",
              "        vertical-align: top;\n",
              "    }\n",
              "\n",
              "    .dataframe thead th {\n",
              "        text-align: right;\n",
              "    }\n",
              "</style>\n",
              "<table border=\"1\" class=\"dataframe\">\n",
              "  <thead>\n",
              "    <tr style=\"text-align: right;\">\n",
              "      <th></th>\n",
              "      <th>age</th>\n",
              "      <th>workclass</th>\n",
              "      <th>fnlwgt</th>\n",
              "      <th>education</th>\n",
              "      <th>education-num</th>\n",
              "      <th>marital-status</th>\n",
              "      <th>occupation</th>\n",
              "      <th>relationship</th>\n",
              "      <th>race</th>\n",
              "      <th>sex</th>\n",
              "      <th>capital-gain</th>\n",
              "      <th>capital-loss</th>\n",
              "      <th>hours-per-week</th>\n",
              "      <th>native-country</th>\n",
              "      <th>income</th>\n",
              "    </tr>\n",
              "  </thead>\n",
              "  <tbody>\n",
              "    <tr>\n",
              "      <th>0</th>\n",
              "      <td>39</td>\n",
              "      <td>State-gov</td>\n",
              "      <td>77516</td>\n",
              "      <td>Bachelors</td>\n",
              "      <td>13</td>\n",
              "      <td>Never-married</td>\n",
              "      <td>Adm-clerical</td>\n",
              "      <td>Not-in-family</td>\n",
              "      <td>White</td>\n",
              "      <td>Male</td>\n",
              "      <td>2174</td>\n",
              "      <td>0</td>\n",
              "      <td>40</td>\n",
              "      <td>United-States</td>\n",
              "      <td>0</td>\n",
              "    </tr>\n",
              "    <tr>\n",
              "      <th>1</th>\n",
              "      <td>50</td>\n",
              "      <td>Self-emp-not-inc</td>\n",
              "      <td>83311</td>\n",
              "      <td>Bachelors</td>\n",
              "      <td>13</td>\n",
              "      <td>Married-civ-spouse</td>\n",
              "      <td>Exec-managerial</td>\n",
              "      <td>Husband</td>\n",
              "      <td>White</td>\n",
              "      <td>Male</td>\n",
              "      <td>0</td>\n",
              "      <td>0</td>\n",
              "      <td>13</td>\n",
              "      <td>United-States</td>\n",
              "      <td>0</td>\n",
              "    </tr>\n",
              "    <tr>\n",
              "      <th>2</th>\n",
              "      <td>38</td>\n",
              "      <td>Private</td>\n",
              "      <td>215646</td>\n",
              "      <td>HS-grad</td>\n",
              "      <td>9</td>\n",
              "      <td>Divorced</td>\n",
              "      <td>Handlers-cleaners</td>\n",
              "      <td>Not-in-family</td>\n",
              "      <td>White</td>\n",
              "      <td>Male</td>\n",
              "      <td>0</td>\n",
              "      <td>0</td>\n",
              "      <td>40</td>\n",
              "      <td>United-States</td>\n",
              "      <td>0</td>\n",
              "    </tr>\n",
              "    <tr>\n",
              "      <th>3</th>\n",
              "      <td>53</td>\n",
              "      <td>Private</td>\n",
              "      <td>234721</td>\n",
              "      <td>11th</td>\n",
              "      <td>7</td>\n",
              "      <td>Married-civ-spouse</td>\n",
              "      <td>Handlers-cleaners</td>\n",
              "      <td>Husband</td>\n",
              "      <td>Black</td>\n",
              "      <td>Male</td>\n",
              "      <td>0</td>\n",
              "      <td>0</td>\n",
              "      <td>40</td>\n",
              "      <td>United-States</td>\n",
              "      <td>0</td>\n",
              "    </tr>\n",
              "  </tbody>\n",
              "</table>\n",
              "</div>\n",
              "      <button class=\"colab-df-convert\" onclick=\"convertToInteractive('df-378cb717-c5df-4041-8cc6-40ba24c03f5a')\"\n",
              "              title=\"Convert this dataframe to an interactive table.\"\n",
              "              style=\"display:none;\">\n",
              "        \n",
              "  <svg xmlns=\"http://www.w3.org/2000/svg\" height=\"24px\"viewBox=\"0 0 24 24\"\n",
              "       width=\"24px\">\n",
              "    <path d=\"M0 0h24v24H0V0z\" fill=\"none\"/>\n",
              "    <path d=\"M18.56 5.44l.94 2.06.94-2.06 2.06-.94-2.06-.94-.94-2.06-.94 2.06-2.06.94zm-11 1L8.5 8.5l.94-2.06 2.06-.94-2.06-.94L8.5 2.5l-.94 2.06-2.06.94zm10 10l.94 2.06.94-2.06 2.06-.94-2.06-.94-.94-2.06-.94 2.06-2.06.94z\"/><path d=\"M17.41 7.96l-1.37-1.37c-.4-.4-.92-.59-1.43-.59-.52 0-1.04.2-1.43.59L10.3 9.45l-7.72 7.72c-.78.78-.78 2.05 0 2.83L4 21.41c.39.39.9.59 1.41.59.51 0 1.02-.2 1.41-.59l7.78-7.78 2.81-2.81c.8-.78.8-2.07 0-2.86zM5.41 20L4 18.59l7.72-7.72 1.47 1.35L5.41 20z\"/>\n",
              "  </svg>\n",
              "      </button>\n",
              "      \n",
              "  <style>\n",
              "    .colab-df-container {\n",
              "      display:flex;\n",
              "      flex-wrap:wrap;\n",
              "      gap: 12px;\n",
              "    }\n",
              "\n",
              "    .colab-df-convert {\n",
              "      background-color: #E8F0FE;\n",
              "      border: none;\n",
              "      border-radius: 50%;\n",
              "      cursor: pointer;\n",
              "      display: none;\n",
              "      fill: #1967D2;\n",
              "      height: 32px;\n",
              "      padding: 0 0 0 0;\n",
              "      width: 32px;\n",
              "    }\n",
              "\n",
              "    .colab-df-convert:hover {\n",
              "      background-color: #E2EBFA;\n",
              "      box-shadow: 0px 1px 2px rgba(60, 64, 67, 0.3), 0px 1px 3px 1px rgba(60, 64, 67, 0.15);\n",
              "      fill: #174EA6;\n",
              "    }\n",
              "\n",
              "    [theme=dark] .colab-df-convert {\n",
              "      background-color: #3B4455;\n",
              "      fill: #D2E3FC;\n",
              "    }\n",
              "\n",
              "    [theme=dark] .colab-df-convert:hover {\n",
              "      background-color: #434B5C;\n",
              "      box-shadow: 0px 1px 3px 1px rgba(0, 0, 0, 0.15);\n",
              "      filter: drop-shadow(0px 1px 2px rgba(0, 0, 0, 0.3));\n",
              "      fill: #FFFFFF;\n",
              "    }\n",
              "  </style>\n",
              "\n",
              "      <script>\n",
              "        const buttonEl =\n",
              "          document.querySelector('#df-378cb717-c5df-4041-8cc6-40ba24c03f5a button.colab-df-convert');\n",
              "        buttonEl.style.display =\n",
              "          google.colab.kernel.accessAllowed ? 'block' : 'none';\n",
              "\n",
              "        async function convertToInteractive(key) {\n",
              "          const element = document.querySelector('#df-378cb717-c5df-4041-8cc6-40ba24c03f5a');\n",
              "          const dataTable =\n",
              "            await google.colab.kernel.invokeFunction('convertToInteractive',\n",
              "                                                     [key], {});\n",
              "          if (!dataTable) return;\n",
              "\n",
              "          const docLinkHtml = 'Like what you see? Visit the ' +\n",
              "            '<a target=\"_blank\" href=https://colab.research.google.com/notebooks/data_table.ipynb>data table notebook</a>'\n",
              "            + ' to learn more about interactive tables.';\n",
              "          element.innerHTML = '';\n",
              "          dataTable['output_type'] = 'display_data';\n",
              "          await google.colab.output.renderOutput(dataTable, element);\n",
              "          const docLink = document.createElement('div');\n",
              "          docLink.innerHTML = docLinkHtml;\n",
              "          element.appendChild(docLink);\n",
              "        }\n",
              "      </script>\n",
              "    </div>\n",
              "  </div>\n",
              "  "
            ]
          },
          "metadata": {},
          "execution_count": 5
        }
      ]
    },
    {
      "cell_type": "code",
      "source": [
        "plt.figure(facecolor='white')\n",
        "sns.countplot(x=dataset[\"income\"],label=\"income distrubution\")"
      ],
      "metadata": {
        "id": "DHOIJTp4j71N",
        "colab": {
          "base_uri": "https://localhost:8080/",
          "height": 296
        },
        "outputId": "925e48d0-056c-4bb9-8f88-f1e9afae1bcd"
      },
      "execution_count": 6,
      "outputs": [
        {
          "output_type": "execute_result",
          "data": {
            "text/plain": [
              "<matplotlib.axes._subplots.AxesSubplot at 0x7f93b037b110>"
            ]
          },
          "metadata": {},
          "execution_count": 6
        },
        {
          "output_type": "display_data",
          "data": {
            "text/plain": [
              "<Figure size 432x288 with 1 Axes>"
            ],
            "image/png": "[encoded data removed]"
          },
          "metadata": {}
        }
      ]
    },
    {
      "cell_type": "code",
      "source": [
        "dataset[\"workclass\"] = dataset[\"workclass\"].fillna(\"X\")\n",
        "dataset[\"occupation\"] = dataset[\"occupation\"].fillna(\"X\")\n",
        "dataset[\"native-country\"] = dataset[\"native-country\"].fillna(\"United-States\")\n",
        "\n",
        "# Confirm All Missing Data is Handled\n",
        "dataset.isnull().sum()"
      ],
      "metadata": {
        "id": "Mw-poLUIb310",
        "colab": {
          "base_uri": "https://localhost:8080/"
        },
        "outputId": "45975036-3fc1-4072-bd2b-c5f7ec115f1e"
      },
      "execution_count": 7,
      "outputs": [
        {
          "output_type": "execute_result",
          "data": {
            "text/plain": [
              "age               0\n",
              "workclass         0\n",
              "fnlwgt            0\n",
              "education         0\n",
              "education-num     0\n",
              "marital-status    0\n",
              "occupation        0\n",
              "relationship      0\n",
              "race              0\n",
              "sex               0\n",
              "capital-gain      0\n",
              "capital-loss      0\n",
              "hours-per-week    0\n",
              "native-country    0\n",
              "income            0\n",
              "dtype: int64"
            ]
          },
          "metadata": {},
          "execution_count": 7
        }
      ]
    },
    {
      "cell_type": "code",
      "source": [
        "dataset[\"sex\"] = dataset[\"sex\"].map({\"Male\": 0, \"Female\":1})\n",
        "\n",
        "# Create Married Column - Binary Yes(1) or No(0)\n",
        "dataset[\"marital-status\"] = dataset[\"marital-status\"].replace(['Never-married','Divorced','Separated','Widowed'], 'Single')\n",
        "dataset[\"marital-status\"] = dataset[\"marital-status\"].replace(['Married-civ-spouse','Married-spouse-absent','Married-AF-spouse'], 'Married')\n",
        "dataset[\"marital-status\"] = dataset[\"marital-status\"].map({\"Married\":1, \"Single\":0})\n",
        "dataset[\"marital-status\"] = dataset[\"marital-status\"].astype(int)"
      ],
      "metadata": {
        "id": "FWutR03dcglE"
      },
      "execution_count": 8,
      "outputs": []
    },
    {
      "cell_type": "code",
      "source": [
        "numeric_features = ['age','fnlwgt','education-num','capital-gain','capital-loss','hours-per-week','marital-status', 'sex']\n",
        "\n",
        "# Identify Categorical features\n",
        "cat_features = ['education', 'relationship', 'race', 'native-country']"
      ],
      "metadata": {
        "id": "OA_DJTKDcpMh"
      },
      "execution_count": 9,
      "outputs": []
    },
    {
      "cell_type": "code",
      "source": [
        "train, test = train_test_split(dataset, test_size=0.2)\n",
        "train, val = train_test_split(train, test_size=0.2)\n",
        "print(len(train), 'train examples')\n",
        "print(len(val), 'validation examples')\n",
        "print(len(test), 'test examples')"
      ],
      "metadata": {
        "id": "WuKxog5Uc3WH",
        "colab": {
          "base_uri": "https://localhost:8080/"
        },
        "outputId": "30593c1d-5693-4843-d751-8e295dc78937"
      },
      "execution_count": 10,
      "outputs": [
        {
          "output_type": "stream",
          "name": "stdout",
          "text": [
            "20838 train examples\n",
            "5210 validation examples\n",
            "6513 test examples\n"
          ]
        }
      ]
    },
    {
      "cell_type": "code",
      "source": [
        "feature_columns = []\n",
        "\n",
        "# numeric cols\n",
        "for header in numeric_features:\n",
        "  feature_columns.append(feature_column.numeric_column(header))\n",
        "\n",
        "feature_columns"
      ],
      "metadata": {
        "id": "jPm63PSHc6E3",
        "colab": {
          "base_uri": "https://localhost:8080/"
        },
        "outputId": "6ddbfb96-d88b-4bf7-9e31-31270b24d2fa"
      },
      "execution_count": 11,
      "outputs": [
        {
          "output_type": "execute_result",
          "data": {
            "text/plain": [
              "[NumericColumn(key='age', shape=(1,), default_value=None, dtype=tf.float32, normalizer_fn=None),\n",
              " NumericColumn(key='fnlwgt', shape=(1,), default_value=None, dtype=tf.float32, normalizer_fn=None),\n",
              " NumericColumn(key='education-num', shape=(1,), default_value=None, dtype=tf.float32, normalizer_fn=None),\n",
              " NumericColumn(key='capital-gain', shape=(1,), default_value=None, dtype=tf.float32, normalizer_fn=None),\n",
              " NumericColumn(key='capital-loss', shape=(1,), default_value=None, dtype=tf.float32, normalizer_fn=None),\n",
              " NumericColumn(key='hours-per-week', shape=(1,), default_value=None, dtype=tf.float32, normalizer_fn=None),\n",
              " NumericColumn(key='marital-status', shape=(1,), default_value=None, dtype=tf.float32, normalizer_fn=None),\n",
              " NumericColumn(key='sex', shape=(1,), default_value=None, dtype=tf.float32, normalizer_fn=None)]"
            ]
          },
          "metadata": {},
          "execution_count": 11
        }
      ]
    },
    {
      "cell_type": "code",
      "source": [
        "dataset.head()"
      ],
      "metadata": {
        "id": "6l1JMgAHc_l6",
        "colab": {
          "base_uri": "https://localhost:8080/",
          "height": 392
        },
        "outputId": "72fe6d97-3ad3-4f84-ee57-ee166322a839"
      },
      "execution_count": 12,
      "outputs": [
        {
          "output_type": "execute_result",
          "data": {
            "text/plain": [
              "   age         workclass  fnlwgt  education  education-num  marital-status  \\\n",
              "0   39         State-gov   77516  Bachelors             13               0   \n",
              "1   50  Self-emp-not-inc   83311  Bachelors             13               1   \n",
              "2   38           Private  215646    HS-grad              9               0   \n",
              "3   53           Private  234721       11th              7               1   \n",
              "4   28           Private  338409  Bachelors             13               1   \n",
              "\n",
              "          occupation   relationship   race  sex  capital-gain  capital-loss  \\\n",
              "0       Adm-clerical  Not-in-family  White    0          2174             0   \n",
              "1    Exec-managerial        Husband  White    0             0             0   \n",
              "2  Handlers-cleaners  Not-in-family  White    0             0             0   \n",
              "3  Handlers-cleaners        Husband  Black    0             0             0   \n",
              "4     Prof-specialty           Wife  Black    1             0             0   \n",
              "\n",
              "   hours-per-week native-country  income  \n",
              "0              40  United-States       0  \n",
              "1              13  United-States       0  \n",
              "2              40  United-States       0  \n",
              "3              40  United-States       0  \n",
              "4              40           Cuba       0  "
            ],
            "text/html": [
              "\n",
              "  <div id=\"df-3fd59e83-f5d4-45f8-8001-19f21cd4f90e\">\n",
              "    <div class=\"colab-df-container\">\n",
              "      <div>\n",
              "<style scoped>\n",
              "    .dataframe tbody tr th:only-of-type {\n",
              "        vertical-align: middle;\n",
              "    }\n",
              "\n",
              "    .dataframe tbody tr th {\n",
              "        vertical-align: top;\n",
              "    }\n",
              "\n",
              "    .dataframe thead th {\n",
              "        text-align: right;\n",
              "    }\n",
              "</style>\n",
              "<table border=\"1\" class=\"dataframe\">\n",
              "  <thead>\n",
              "    <tr style=\"text-align: right;\">\n",
              "      <th></th>\n",
              "      <th>age</th>\n",
              "      <th>workclass</th>\n",
              "      <th>fnlwgt</th>\n",
              "      <th>education</th>\n",
              "      <th>education-num</th>\n",
              "      <th>marital-status</th>\n",
              "      <th>occupation</th>\n",
              "      <th>relationship</th>\n",
              "      <th>race</th>\n",
              "      <th>sex</th>\n",
              "      <th>capital-gain</th>\n",
              "      <th>capital-loss</th>\n",
              "      <th>hours-per-week</th>\n",
              "      <th>native-country</th>\n",
              "      <th>income</th>\n",
              "    </tr>\n",
              "  </thead>\n",
              "  <tbody>\n",
              "    <tr>\n",
              "      <th>0</th>\n",
              "      <td>39</td>\n",
              "      <td>State-gov</td>\n",
              "      <td>77516</td>\n",
              "      <td>Bachelors</td>\n",
              "      <td>13</td>\n",
              "      <td>0</td>\n",
              "      <td>Adm-clerical</td>\n",
              "      <td>Not-in-family</td>\n",
              "      <td>White</td>\n",
              "      <td>0</td>\n",
              "      <td>2174</td>\n",
              "      <td>0</td>\n",
              "      <td>40</td>\n",
              "      <td>United-States</td>\n",
              "      <td>0</td>\n",
              "    </tr>\n",
              "    <tr>\n",
              "      <th>1</th>\n",
              "      <td>50</td>\n",
              "      <td>Self-emp-not-inc</td>\n",
              "      <td>83311</td>\n",
              "      <td>Bachelors</td>\n",
              "      <td>13</td>\n",
              "      <td>1</td>\n",
              "      <td>Exec-managerial</td>\n",
              "      <td>Husband</td>\n",
              "      <td>White</td>\n",
              "      <td>0</td>\n",
              "      <td>0</td>\n",
              "      <td>0</td>\n",
              "      <td>13</td>\n",
              "      <td>United-States</td>\n",
              "      <td>0</td>\n",
              "    </tr>\n",
              "    <tr>\n",
              "      <th>2</th>\n",
              "      <td>38</td>\n",
              "      <td>Private</td>\n",
              "      <td>215646</td>\n",
              "      <td>HS-grad</td>\n",
              "      <td>9</td>\n",
              "      <td>0</td>\n",
              "      <td>Handlers-cleaners</td>\n",
              "      <td>Not-in-family</td>\n",
              "      <td>White</td>\n",
              "      <td>0</td>\n",
              "      <td>0</td>\n",
              "      <td>0</td>\n",
              "      <td>40</td>\n",
              "      <td>United-States</td>\n",
              "      <td>0</td>\n",
              "    </tr>\n",
              "    <tr>\n",
              "      <th>3</th>\n",
              "      <td>53</td>\n",
              "      <td>Private</td>\n",
              "      <td>234721</td>\n",
              "      <td>11th</td>\n",
              "      <td>7</td>\n",
              "      <td>1</td>\n",
              "      <td>Handlers-cleaners</td>\n",
              "      <td>Husband</td>\n",
              "      <td>Black</td>\n",
              "      <td>0</td>\n",
              "      <td>0</td>\n",
              "      <td>0</td>\n",
              "      <td>40</td>\n",
              "      <td>United-States</td>\n",
              "      <td>0</td>\n",
              "    </tr>\n",
              "    <tr>\n",
              "      <th>4</th>\n",
              "      <td>28</td>\n",
              "      <td>Private</td>\n",
              "      <td>338409</td>\n",
              "      <td>Bachelors</td>\n",
              "      <td>13</td>\n",
              "      <td>1</td>\n",
              "      <td>Prof-specialty</td>\n",
              "      <td>Wife</td>\n",
              "      <td>Black</td>\n",
              "      <td>1</td>\n",
              "      <td>0</td>\n",
              "      <td>0</td>\n",
              "      <td>40</td>\n",
              "      <td>Cuba</td>\n",
              "      <td>0</td>\n",
              "    </tr>\n",
              "  </tbody>\n",
              "</table>\n",
              "</div>\n",
              "      <button class=\"colab-df-convert\" onclick=\"convertToInteractive('df-3fd59e83-f5d4-45f8-8001-19f21cd4f90e')\"\n",
              "              title=\"Convert this dataframe to an interactive table.\"\n",
              "              style=\"display:none;\">\n",
              "        \n",
              "  <svg xmlns=\"http://www.w3.org/2000/svg\" height=\"24px\"viewBox=\"0 0 24 24\"\n",
              "       width=\"24px\">\n",
              "    <path d=\"M0 0h24v24H0V0z\" fill=\"none\"/>\n",
              "    <path d=\"M18.56 5.44l.94 2.06.94-2.06 2.06-.94-2.06-.94-.94-2.06-.94 2.06-2.06.94zm-11 1L8.5 8.5l.94-2.06 2.06-.94-2.06-.94L8.5 2.5l-.94 2.06-2.06.94zm10 10l.94 2.06.94-2.06 2.06-.94-2.06-.94-.94-2.06-.94 2.06-2.06.94z\"/><path d=\"M17.41 7.96l-1.37-1.37c-.4-.4-.92-.59-1.43-.59-.52 0-1.04.2-1.43.59L10.3 9.45l-7.72 7.72c-.78.78-.78 2.05 0 2.83L4 21.41c.39.39.9.59 1.41.59.51 0 1.02-.2 1.41-.59l7.78-7.78 2.81-2.81c.8-.78.8-2.07 0-2.86zM5.41 20L4 18.59l7.72-7.72 1.47 1.35L5.41 20z\"/>\n",
              "  </svg>\n",
              "      </button>\n",
              "      \n",
              "  <style>\n",
              "    .colab-df-container {\n",
              "      display:flex;\n",
              "      flex-wrap:wrap;\n",
              "      gap: 12px;\n",
              "    }\n",
              "\n",
              "    .colab-df-convert {\n",
              "      background-color: #E8F0FE;\n",
              "      border: none;\n",
              "      border-radius: 50%;\n",
              "      cursor: pointer;\n",
              "      display: none;\n",
              "      fill: #1967D2;\n",
              "      height: 32px;\n",
              "      padding: 0 0 0 0;\n",
              "      width: 32px;\n",
              "    }\n",
              "\n",
              "    .colab-df-convert:hover {\n",
              "      background-color: #E2EBFA;\n",
              "      box-shadow: 0px 1px 2px rgba(60, 64, 67, 0.3), 0px 1px 3px 1px rgba(60, 64, 67, 0.15);\n",
              "      fill: #174EA6;\n",
              "    }\n",
              "\n",
              "    [theme=dark] .colab-df-convert {\n",
              "      background-color: #3B4455;\n",
              "      fill: #D2E3FC;\n",
              "    }\n",
              "\n",
              "    [theme=dark] .colab-df-convert:hover {\n",
              "      background-color: #434B5C;\n",
              "      box-shadow: 0px 1px 3px 1px rgba(0, 0, 0, 0.15);\n",
              "      filter: drop-shadow(0px 1px 2px rgba(0, 0, 0, 0.3));\n",
              "      fill: #FFFFFF;\n",
              "    }\n",
              "  </style>\n",
              "\n",
              "      <script>\n",
              "        const buttonEl =\n",
              "          document.querySelector('#df-3fd59e83-f5d4-45f8-8001-19f21cd4f90e button.colab-df-convert');\n",
              "        buttonEl.style.display =\n",
              "          google.colab.kernel.accessAllowed ? 'block' : 'none';\n",
              "\n",
              "        async function convertToInteractive(key) {\n",
              "          const element = document.querySelector('#df-3fd59e83-f5d4-45f8-8001-19f21cd4f90e');\n",
              "          const dataTable =\n",
              "            await google.colab.kernel.invokeFunction('convertToInteractive',\n",
              "                                                     [key], {});\n",
              "          if (!dataTable) return;\n",
              "\n",
              "          const docLinkHtml = 'Like what you see? Visit the ' +\n",
              "            '<a target=\"_blank\" href=https://colab.research.google.com/notebooks/data_table.ipynb>data table notebook</a>'\n",
              "            + ' to learn more about interactive tables.';\n",
              "          element.innerHTML = '';\n",
              "          dataTable['output_type'] = 'display_data';\n",
              "          await google.colab.output.renderOutput(dataTable, element);\n",
              "          const docLink = document.createElement('div');\n",
              "          docLink.innerHTML = docLinkHtml;\n",
              "          element.appendChild(docLink);\n",
              "        }\n",
              "      </script>\n",
              "    </div>\n",
              "  </div>\n",
              "  "
            ]
          },
          "metadata": {},
          "execution_count": 12
        }
      ]
    },
    {
      "cell_type": "code",
      "source": [
        "dataset.drop(labels=[\"workclass\",\"occupation\"], axis = 1, inplace = True)\n",
        "print('Dataset with Dropped Labels')\n",
        "print(dataset.head())"
      ],
      "metadata": {
        "id": "urKp-n7edGHO",
        "colab": {
          "base_uri": "https://localhost:8080/"
        },
        "outputId": "00b5de47-120b-46a2-9790-85e4cb45ee0f"
      },
      "execution_count": 13,
      "outputs": [
        {
          "output_type": "stream",
          "name": "stdout",
          "text": [
            "Dataset with Dropped Labels\n",
            "   age  fnlwgt  education  education-num  marital-status   relationship  \\\n",
            "0   39   77516  Bachelors             13               0  Not-in-family   \n",
            "1   50   83311  Bachelors             13               1        Husband   \n",
            "2   38  215646    HS-grad              9               0  Not-in-family   \n",
            "3   53  234721       11th              7               1        Husband   \n",
            "4   28  338409  Bachelors             13               1           Wife   \n",
            "\n",
            "    race  sex  capital-gain  capital-loss  hours-per-week native-country  \\\n",
            "0  White    0          2174             0              40  United-States   \n",
            "1  White    0             0             0              13  United-States   \n",
            "2  White    0             0             0              40  United-States   \n",
            "3  Black    0             0             0              40  United-States   \n",
            "4  Black    1             0             0              40           Cuba   \n",
            "\n",
            "   income  \n",
            "0       0  \n",
            "1       0  \n",
            "2       0  \n",
            "3       0  \n",
            "4       0  \n"
          ]
        }
      ]
    },
    {
      "cell_type": "code",
      "source": [
        "for feature in cat_features:\n",
        "    l = dataset[feature].unique()\n",
        "#     print(l)\n",
        "    f = feature_column.categorical_column_with_vocabulary_list(feature,l)\n",
        "    one_hot = feature_column.indicator_column(f)\n",
        "    feature_columns.append(one_hot)\n",
        "    \n",
        "print(feature_columns)\n"
      ],
      "metadata": {
        "id": "D7QZxfFQfO26",
        "colab": {
          "base_uri": "https://localhost:8080/"
        },
        "outputId": "d7e5f63b-2437-4dd2-c369-138f391e792c"
      },
      "execution_count": 14,
      "outputs": [
        {
          "output_type": "stream",
          "name": "stdout",
          "text": [
            "[NumericColumn(key='age', shape=(1,), default_value=None, dtype=tf.float32, normalizer_fn=None), NumericColumn(key='fnlwgt', shape=(1,), default_value=None, dtype=tf.float32, normalizer_fn=None), NumericColumn(key='education-num', shape=(1,), default_value=None, dtype=tf.float32, normalizer_fn=None), NumericColumn(key='capital-gain', shape=(1,), default_value=None, dtype=tf.float32, normalizer_fn=None), NumericColumn(key='capital-loss', shape=(1,), default_value=None, dtype=tf.float32, normalizer_fn=None), NumericColumn(key='hours-per-week', shape=(1,), default_value=None, dtype=tf.float32, normalizer_fn=None), NumericColumn(key='marital-status', shape=(1,), default_value=None, dtype=tf.float32, normalizer_fn=None), NumericColumn(key='sex', shape=(1,), default_value=None, dtype=tf.float32, normalizer_fn=None), IndicatorColumn(categorical_column=VocabularyListCategoricalColumn(key='education', vocabulary_list=('Bachelors', 'HS-grad', '11th', 'Masters', '9th', 'Some-college', 'Assoc-acdm', 'Assoc-voc', '7th-8th', 'Doctorate', 'Prof-school', '5th-6th', '10th', '1st-4th', 'Preschool', '12th'), dtype=tf.string, default_value=-1, num_oov_buckets=0)), IndicatorColumn(categorical_column=VocabularyListCategoricalColumn(key='relationship', vocabulary_list=('Not-in-family', 'Husband', 'Wife', 'Own-child', 'Unmarried', 'Other-relative'), dtype=tf.string, default_value=-1, num_oov_buckets=0)), IndicatorColumn(categorical_column=VocabularyListCategoricalColumn(key='race', vocabulary_list=('White', 'Black', 'Asian-Pac-Islander', 'Amer-Indian-Eskimo', 'Other'), dtype=tf.string, default_value=-1, num_oov_buckets=0)), IndicatorColumn(categorical_column=VocabularyListCategoricalColumn(key='native-country', vocabulary_list=('United-States', 'Cuba', 'Jamaica', 'India', '?', 'Mexico', 'South', 'Puerto-Rico', 'Honduras', 'England', 'Canada', 'Germany', 'Iran', 'Philippines', 'Italy', 'Poland', 'Columbia', 'Cambodia', 'Thailand', 'Ecuador', 'Laos', 'Taiwan', 'Haiti', 'Portugal', 'Dominican-Republic', 'El-Salvador', 'France', 'Guatemala', 'China', 'Japan', 'Yugoslavia', 'Peru', 'Outlying-US(Guam-USVI-etc)', 'Scotland', 'Trinadad&Tobago', 'Greece', 'Nicaragua', 'Vietnam', 'Hong', 'Ireland', 'Hungary', 'Holand-Netherlands'), dtype=tf.string, default_value=-1, num_oov_buckets=0))]\n"
          ]
        }
      ]
    },
    {
      "cell_type": "code",
      "source": [
        "def df_to_dataset(dataframe, shuffle=True, batch_size=32):\n",
        "  dataframe = dataframe.copy()\n",
        "  labels = dataframe.pop('income')\n",
        "  ds = tf.data.Dataset.from_tensor_slices((dict(dataframe), labels))\n",
        "  if shuffle:\n",
        "    ds = ds.shuffle(buffer_size=len(dataframe))\n",
        "  ds = ds.batch(batch_size)\n",
        "  return ds"
      ],
      "metadata": {
        "id": "OdOxcULKdSBu"
      },
      "execution_count": 15,
      "outputs": []
    },
    {
      "cell_type": "code",
      "source": [
        "batch_size = 32\n",
        "train_ds = df_to_dataset(train, batch_size=batch_size)\n",
        "val_ds = df_to_dataset(val, shuffle=False, batch_size=batch_size)\n",
        "test_ds = df_to_dataset(test, shuffle=False, batch_size=batch_size)"
      ],
      "metadata": {
        "id": "VlgN3Pj9duLL"
      },
      "execution_count": 16,
      "outputs": []
    },
    {
      "cell_type": "code",
      "source": [
        "feature_layer = tf.keras.layers.DenseFeatures(feature_columns)"
      ],
      "metadata": {
        "id": "S59oBGBDeWUO"
      },
      "execution_count": 17,
      "outputs": []
    },
    {
      "cell_type": "code",
      "source": [
        "model = tf.keras.Sequential([\n",
        "  feature_layer,\n",
        "  layers.Dense(128, activation='relu'),\n",
        "  layers.Dense(128, activation='relu'),\n",
        "  layers.Dense(1)\n",
        "])"
      ],
      "metadata": {
        "id": "G3xcjiRmfubj"
      },
      "execution_count": 18,
      "outputs": []
    },
    {
      "cell_type": "code",
      "source": [
        "model.compile(optimizer='adam',loss=tf.keras.losses.BinaryCrossentropy(from_logits=True),metrics=['accuracy'])"
      ],
      "metadata": {
        "id": "XTOkayUFfywU"
      },
      "execution_count": 19,
      "outputs": []
    },
    {
      "cell_type": "code",
      "source": [
        "model.fit(train_ds,validation_data=val_ds,epochs=25)"
      ],
      "metadata": {
        "id": "3u06tG30f6ge",
        "colab": {
          "base_uri": "https://localhost:8080/"
        },
        "outputId": "281f42b8-4e42-4af2-813e-de840684c68c"
      },
      "execution_count": 20,
      "outputs": [
        {
          "output_type": "stream",
          "name": "stdout",
          "text": [
            "Epoch 1/25\n",
            "WARNING:tensorflow:Layers in a Sequential model should only have a single input tensor. Received: inputs={'age': <tf.Tensor 'IteratorGetNext:0' shape=(None,) dtype=int64>, 'workclass': <tf.Tensor 'IteratorGetNext:13' shape=(None,) dtype=string>, 'fnlwgt': <tf.Tensor 'IteratorGetNext:5' shape=(None,) dtype=int64>, 'education': <tf.Tensor 'IteratorGetNext:3' shape=(None,) dtype=string>, 'education-num': <tf.Tensor 'IteratorGetNext:4' shape=(None,) dtype=int64>, 'marital-status': <tf.Tensor 'IteratorGetNext:7' shape=(None,) dtype=int64>, 'occupation': <tf.Tensor 'IteratorGetNext:9' shape=(None,) dtype=string>, 'relationship': <tf.Tensor 'IteratorGetNext:11' shape=(None,) dtype=string>, 'race': <tf.Tensor 'IteratorGetNext:10' shape=(None,) dtype=string>, 'sex': <tf.Tensor 'IteratorGetNext:12' shape=(None,) dtype=int64>, 'capital-gain': <tf.Tensor 'IteratorGetNext:1' shape=(None,) dtype=int64>, 'capital-loss': <tf.Tensor 'IteratorGetNext:2' shape=(None,) dtype=int64>, 'hours-per-week': <tf.Tensor 'IteratorGetNext:6' shape=(None,) dtype=int64>, 'native-country': <tf.Tensor 'IteratorGetNext:8' shape=(None,) dtype=string>}. Consider rewriting this model with the Functional API.\n",
            "WARNING:tensorflow:Layers in a Sequential model should only have a single input tensor. Received: inputs={'age': <tf.Tensor 'IteratorGetNext:0' shape=(None,) dtype=int64>, 'workclass': <tf.Tensor 'IteratorGetNext:13' shape=(None,) dtype=string>, 'fnlwgt': <tf.Tensor 'IteratorGetNext:5' shape=(None,) dtype=int64>, 'education': <tf.Tensor 'IteratorGetNext:3' shape=(None,) dtype=string>, 'education-num': <tf.Tensor 'IteratorGetNext:4' shape=(None,) dtype=int64>, 'marital-status': <tf.Tensor 'IteratorGetNext:7' shape=(None,) dtype=int64>, 'occupation': <tf.Tensor 'IteratorGetNext:9' shape=(None,) dtype=string>, 'relationship': <tf.Tensor 'IteratorGetNext:11' shape=(None,) dtype=string>, 'race': <tf.Tensor 'IteratorGetNext:10' shape=(None,) dtype=string>, 'sex': <tf.Tensor 'IteratorGetNext:12' shape=(None,) dtype=int64>, 'capital-gain': <tf.Tensor 'IteratorGetNext:1' shape=(None,) dtype=int64>, 'capital-loss': <tf.Tensor 'IteratorGetNext:2' shape=(None,) dtype=int64>, 'hours-per-week': <tf.Tensor 'IteratorGetNext:6' shape=(None,) dtype=int64>, 'native-country': <tf.Tensor 'IteratorGetNext:8' shape=(None,) dtype=string>}. Consider rewriting this model with the Functional API.\n",
            "652/652 [==============================] - ETA: 0s - loss: 446.8305 - accuracy: 0.6746WARNING:tensorflow:Layers in a Sequential model should only have a single input tensor. Received: inputs={'age': <tf.Tensor 'IteratorGetNext:0' shape=(None,) dtype=int64>, 'workclass': <tf.Tensor 'IteratorGetNext:13' shape=(None,) dtype=string>, 'fnlwgt': <tf.Tensor 'IteratorGetNext:5' shape=(None,) dtype=int64>, 'education': <tf.Tensor 'IteratorGetNext:3' shape=(None,) dtype=string>, 'education-num': <tf.Tensor 'IteratorGetNext:4' shape=(None,) dtype=int64>, 'marital-status': <tf.Tensor 'IteratorGetNext:7' shape=(None,) dtype=int64>, 'occupation': <tf.Tensor 'IteratorGetNext:9' shape=(None,) dtype=string>, 'relationship': <tf.Tensor 'IteratorGetNext:11' shape=(None,) dtype=string>, 'race': <tf.Tensor 'IteratorGetNext:10' shape=(None,) dtype=string>, 'sex': <tf.Tensor 'IteratorGetNext:12' shape=(None,) dtype=int64>, 'capital-gain': <tf.Tensor 'IteratorGetNext:1' shape=(None,) dtype=int64>, 'capital-loss': <tf.Tensor 'IteratorGetNext:2' shape=(None,) dtype=int64>, 'hours-per-week': <tf.Tensor 'IteratorGetNext:6' shape=(None,) dtype=int64>, 'native-country': <tf.Tensor 'IteratorGetNext:8' shape=(None,) dtype=string>}. Consider rewriting this model with the Functional API.\n",
            "652/652 [==============================] - 4s 4ms/step - loss: 446.8305 - accuracy: 0.6746 - val_loss: 544.5291 - val_accuracy: 0.7835\n",
            "Epoch 2/25\n",
            "652/652 [==============================] - 2s 3ms/step - loss: 210.7941 - accuracy: 0.6842 - val_loss: 39.5676 - val_accuracy: 0.7793\n",
            "Epoch 3/25\n",
            "652/652 [==============================] - 2s 3ms/step - loss: 140.8392 - accuracy: 0.6827 - val_loss: 312.6640 - val_accuracy: 0.2374\n",
            "Epoch 4/25\n",
            "652/652 [==============================] - 2s 3ms/step - loss: 99.0538 - accuracy: 0.6858 - val_loss: 206.0380 - val_accuracy: 0.7752\n",
            "Epoch 5/25\n",
            "652/652 [==============================] - 2s 3ms/step - loss: 79.6295 - accuracy: 0.6906 - val_loss: 34.9598 - val_accuracy: 0.7910\n",
            "Epoch 6/25\n",
            "652/652 [==============================] - 2s 3ms/step - loss: 63.2277 - accuracy: 0.6833 - val_loss: 122.2656 - val_accuracy: 0.7770\n",
            "Epoch 7/25\n",
            "652/652 [==============================] - 2s 3ms/step - loss: 42.2820 - accuracy: 0.6896 - val_loss: 16.3426 - val_accuracy: 0.7883\n",
            "Epoch 8/25\n",
            "652/652 [==============================] - 3s 4ms/step - loss: 45.5083 - accuracy: 0.6828 - val_loss: 61.2131 - val_accuracy: 0.7889\n",
            "Epoch 9/25\n",
            "652/652 [==============================] - 2s 3ms/step - loss: 29.2037 - accuracy: 0.6909 - val_loss: 19.7318 - val_accuracy: 0.7965\n",
            "Epoch 10/25\n",
            "652/652 [==============================] - 2s 3ms/step - loss: 25.8787 - accuracy: 0.6869 - val_loss: 6.1356 - val_accuracy: 0.7760\n",
            "Epoch 11/25\n",
            "652/652 [==============================] - 2s 3ms/step - loss: 19.5901 - accuracy: 0.6870 - val_loss: 9.1125 - val_accuracy: 0.7933\n",
            "Epoch 12/25\n",
            "652/652 [==============================] - 2s 3ms/step - loss: 19.2728 - accuracy: 0.6875 - val_loss: 6.6690 - val_accuracy: 0.7635\n",
            "Epoch 13/25\n",
            "652/652 [==============================] - 2s 3ms/step - loss: 13.6164 - accuracy: 0.6901 - val_loss: 2.8887 - val_accuracy: 0.6651\n",
            "Epoch 14/25\n",
            "652/652 [==============================] - 2s 3ms/step - loss: 12.8291 - accuracy: 0.6873 - val_loss: 3.8174 - val_accuracy: 0.7869\n",
            "Epoch 15/25\n",
            "652/652 [==============================] - 2s 3ms/step - loss: 10.3406 - accuracy: 0.6885 - val_loss: 8.4814 - val_accuracy: 0.7954\n",
            "Epoch 16/25\n",
            "652/652 [==============================] - 2s 3ms/step - loss: 6.0531 - accuracy: 0.6993 - val_loss: 4.5863 - val_accuracy: 0.7942\n",
            "Epoch 17/25\n",
            "652/652 [==============================] - 2s 3ms/step - loss: 5.9092 - accuracy: 0.7003 - val_loss: 3.6898 - val_accuracy: 0.7952\n",
            "Epoch 18/25\n",
            "652/652 [==============================] - 2s 3ms/step - loss: 4.5595 - accuracy: 0.6977 - val_loss: 4.1370 - val_accuracy: 0.7931\n",
            "Epoch 19/25\n",
            "652/652 [==============================] - 2s 3ms/step - loss: 2.9851 - accuracy: 0.7150 - val_loss: 0.8577 - val_accuracy: 0.7724\n",
            "Epoch 20/25\n",
            "652/652 [==============================] - 2s 3ms/step - loss: 3.5914 - accuracy: 0.7044 - val_loss: 5.1473 - val_accuracy: 0.2438\n",
            "Epoch 21/25\n",
            "652/652 [==============================] - 2s 3ms/step - loss: 2.5679 - accuracy: 0.7231 - val_loss: 0.8519 - val_accuracy: 0.7952\n",
            "Epoch 22/25\n",
            "652/652 [==============================] - 2s 3ms/step - loss: 1.9714 - accuracy: 0.7243 - val_loss: 1.6119 - val_accuracy: 0.7925\n",
            "Epoch 23/25\n",
            "652/652 [==============================] - 2s 3ms/step - loss: 1.5829 - accuracy: 0.7272 - val_loss: 1.0844 - val_accuracy: 0.7981\n",
            "Epoch 24/25\n",
            "652/652 [==============================] - 4s 6ms/step - loss: 1.2093 - accuracy: 0.7478 - val_loss: 0.8596 - val_accuracy: 0.7981\n",
            "Epoch 25/25\n",
            "652/652 [==============================] - 2s 3ms/step - loss: 0.9182 - accuracy: 0.7534 - val_loss: 0.8152 - val_accuracy: 0.7906\n"
          ]
        },
        {
          "output_type": "execute_result",
          "data": {
            "text/plain": [
              "<keras.callbacks.History at 0x7f93b0394810>"
            ]
          },
          "metadata": {},
          "execution_count": 20
        }
      ]
    },
    {
      "cell_type": "code",
      "source": [
        "loss, accuracy = model.evaluate(test_ds)\n",
        "print(\"Accuracy\", accuracy)\n"
      ],
      "metadata": {
        "id": "Ubr3A8phf_IR",
        "colab": {
          "base_uri": "https://localhost:8080/"
        },
        "outputId": "07dc89d1-d7a1-4ad5-d726-9ce4fb937839"
      },
      "execution_count": 21,
      "outputs": [
        {
          "output_type": "stream",
          "name": "stdout",
          "text": [
            "204/204 [==============================] - 1s 3ms/step - loss: 0.8158 - accuracy: 0.7923\n",
            "Accuracy 0.7922616600990295\n"
          ]
        }
      ]
    },
    {
      "cell_type": "code",
      "source": [
        ""
      ],
      "metadata": {
        "id": "2tCCBPdOglYV"
      },
      "execution_count": null,
      "outputs": []
    }
  ]
}